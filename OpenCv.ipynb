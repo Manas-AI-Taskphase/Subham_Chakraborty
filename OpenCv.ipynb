{
 "cells": [
  {
   "cell_type": "code",
   "execution_count": 1,
   "id": "dd865a38-5943-49ee-8bb9-c48111d4864d",
   "metadata": {},
   "outputs": [],
   "source": [
    "import cv2\n",
    "import numpy as np\n",
    "from matplotlib import pyplot as plt"
   ]
  },
  {
   "cell_type": "code",
   "execution_count": 9,
   "id": "25f97ed1-ebee-4085-8ae6-8f70c8896e45",
   "metadata": {},
   "outputs": [],
   "source": [
    "cap = cv2.VideoCapture('volleyball_match.mp4')\n",
    "lower_color = np.array([10, 110, 110])\n",
    "upper_color = np.array([20, 255, 255])\n",
    "backSub = cv2.createBackgroundSubtractorMOG2(history=3, varThreshold=300)\n",
    "while True:\n",
    "    ret, frame = cap.read()\n",
    "    if not ret:\n",
    "        break\n",
    "    frame = cv2.bilateralFilter(frame,9,100,75)\n",
    "    hsv = cv2.cvtColor(frame, cv2.COLOR_BGR2HSV)\n",
    "    mask11 = backSub.apply(frame)\n",
    "    mask11 = cv2.erode(mask11, None,iterations=3)\n",
    "    mask11 = cv2.dilate(mask11, None,iterations=3)\n",
    "    mask11 = cv2.GaussianBlur(mask11, (15, 15),0) \n",
    "    ret2,mask11 = cv2.threshold(mask11,0,255,cv2.THRESH_BINARY | cv2.THRESH_OTSU)\n",
    "    res2 = cv2.bitwise_and(frame,frame, mask= mask11)\n",
    "    a,b,res2 = cv2.split(res2)\n",
    "    mask = cv2.inRange(hsv, lower_color, upper_color)\n",
    "    mask = cv2.erode(mask, None,iterations=2)\n",
    "    mask = cv2.dilate(mask, None,iterations=3)\n",
    "    mask = cv2.GaussianBlur(mask, (15, 15),0) \n",
    "    ret,mask = cv2.threshold(mask,0,255,cv2.THRESH_BINARY | cv2.THRESH_OTSU)\n",
    "    res = cv2.bitwise_and(frame,frame, mask= mask)\n",
    "    res = cv2.cvtColor(res,cv2.COLOR_BGR2GRAY)\n",
    "    res = cv2.bitwise_and(res,res2)\n",
    "    edges = cv2.Canny(res,150,200)\n",
    "    res = cv2.cvtColor(res,cv2.COLOR_GRAY2BGR)\n",
    "    contours, _ = cv2.findContours(edges, cv2.RETR_EXTERNAL, cv2.CHAIN_APPROX_SIMPLE)\n",
    "    apx=[]\n",
    "    for cnt in contours:      \n",
    "        epsilon = 0.02*cv2.arcLength(cnt,True)\n",
    "        approx = cv2.approxPolyDP(cnt,epsilon,True)\n",
    "        cv2.drawContours(res, [approx], -1, (0,0,255), 3)\n",
    "        apx.append(approx)\n",
    "    if contours:\n",
    "        c = max(apx, key=cv2.contourArea)\n",
    "        M = cv2.moments(c)\n",
    "        if (M[\"m00\"]==0):\n",
    "            M[\"m00\"] = 0.0001\n",
    "        x = int(M[\"m10\"] / M[\"m00\"])\n",
    "        y = int(M[\"m01\"] / M[\"m00\"])\n",
    "        cv2.circle(frame, (x, y), 10, (0, 255, 0), -1)\n",
    "    cv2.imshow(\"Frame\", frame)\n",
    "    cv2.imshow(\"mask\",mask)\n",
    "    cv2.imshow(\"mase\",res)\n",
    "    cv2.imshow(\"mas\",res2)\n",
    "    cv2.imshow(\"masey\",edges)\n",
    "    if cv2.waitKey(10) == ord(\"q\"):\n",
    "        break\n",
    "cap.release()\n",
    "cv2.destroyAllWindows()"
   ]
  },
  {
   "cell_type": "code",
   "execution_count": null,
   "id": "673742f4-2a99-43b3-9a83-fafa80acc317",
   "metadata": {},
   "outputs": [],
   "source": []
  }
 ],
 "metadata": {
  "kernelspec": {
   "display_name": "Python 3 (ipykernel)",
   "language": "python",
   "name": "python3"
  },
  "language_info": {
   "codemirror_mode": {
    "name": "ipython",
    "version": 3
   },
   "file_extension": ".py",
   "mimetype": "text/x-python",
   "name": "python",
   "nbconvert_exporter": "python",
   "pygments_lexer": "ipython3",
   "version": "3.10.5"
  }
 },
 "nbformat": 4,
 "nbformat_minor": 5
}
